{
  "nbformat": 4,
  "nbformat_minor": 5,
  "metadata": {
    "kernelspec": {
      "display_name": "Python 3",
      "language": "python",
      "name": "python3"
    },
    "language_info": {
      "codemirror_mode": {
        "name": "ipython",
        "version": 3
      },
      "file_extension": ".py",
      "mimetype": "text/x-python",
      "name": "python",
      "nbconvert_exporter": "python",
      "pygments_lexer": "ipython3",
      "version": "3.8.5"
    },
    "colab": {
      "name": "CE04_Nurul Suciana Adam.ipynb",
      "provenance": [],
      "collapsed_sections": []
    }
  },
  "cells": [
    {
      "cell_type": "markdown",
      "metadata": {
        "id": "rgyHha0XVqWk"
      },
      "source": [
        "## Welcome to Coding Exercise 4\n",
        "**You only need to solve 2 question only**"
      ],
      "id": "rgyHha0XVqWk"
    },
    {
      "cell_type": "markdown",
      "metadata": {
        "id": "yYHzZQQ7VqWo"
      },
      "source": [
        "### Question 1. \n",
        "### \"Shifting Members of an Array\""
      ],
      "id": "yYHzZQQ7VqWo"
    },
    {
      "cell_type": "markdown",
      "metadata": {
        "id": "HnQ0f2qIVqWp"
      },
      "source": [
        "In this question, we want to shift our array to the right. How many times? Depends on the input. \n",
        "\n",
        "##### Example 1:\n",
        "array = [1,2,3,4,5]\n",
        "steps = 3\n",
        "\n",
        "We need to shift the array 3 steps to the right. \n",
        "- Original array = [1,2,3,4,5]\n",
        "- Step 1 = [5,1,2,3,4]\n",
        "- Step 2 = [4,5,1,2,3]\n",
        "- Step 3 = [3,4,5,1,2]\n",
        "\n",
        "Answer = [3,4,5,1,2]\n",
        "\n",
        "##### Example 2:\n",
        "array = [1,2,3]\n",
        "steps = 5\n",
        "\n",
        "We need to shift the array 5 steps to the right.\n",
        "\n",
        "- Original array = [1,2,3]\n",
        "- Step 1 = [3,1,2]\n",
        "- Step 2 = [2,3,1]\n",
        "- Step 3 = [1,2,3]\n",
        "- Step 4 = [3,1,2]\n",
        "- Step 5 = [2,3,1]\n",
        "\n",
        "Answer = [2,3,1]"
      ],
      "id": "HnQ0f2qIVqWp"
    },
    {
      "cell_type": "code",
      "metadata": {
        "id": "fJsYHD2DVqWq"
      },
      "source": [
        "### Write your function here ###\n",
        "def shift(array, steps):\n",
        "    return"
      ],
      "id": "fJsYHD2DVqWq",
      "execution_count": null,
      "outputs": []
    },
    {
      "cell_type": "code",
      "source": [
        "###Solution\n",
        "from collections import deque\n",
        "\n",
        "def shift(array,steps):\n",
        "    myarray = deque(array)\n",
        "    temp = []\n",
        "    for i in range (steps):\n",
        "        myarray.rotate(1) #rotate right\n",
        "        a = list(myarray)\n",
        "        temp.append(a)\n",
        "    print(temp[-1])\n",
        "\n",
        "shift ([1,2,3,4,5],4)"
      ],
      "metadata": {
        "id": "xiHL4TmH425O",
        "outputId": "17f86558-9e4a-436d-823f-0ad3d36f2cbf",
        "colab": {
          "base_uri": "https://localhost:8080/"
        }
      },
      "id": "xiHL4TmH425O",
      "execution_count": null,
      "outputs": [
        {
          "output_type": "stream",
          "name": "stdout",
          "text": [
            "[2, 3, 4, 5, 1]\n"
          ]
        }
      ]
    },
    {
      "cell_type": "code",
      "metadata": {
        "id": "qpDQUNijXhd7"
      },
      "source": [
        "shift([1,2,3,4,5],4)\n",
        "\n",
        "# Expected Output: [2, 3, 4, 5, 1]"
      ],
      "id": "qpDQUNijXhd7",
      "execution_count": null,
      "outputs": []
    },
    {
      "cell_type": "code",
      "metadata": {
        "id": "jnr5znJUVqWr",
        "outputId": "00c7edd8-858a-41bd-ba66-4565e7566069",
        "colab": {
          "base_uri": "https://localhost:8080/"
        }
      },
      "source": [
        "from collections import deque\n",
        "\n",
        "def shift(array,steps):\n",
        "    myarray = deque(array)\n",
        "    temp = []\n",
        "    for i in range (steps):\n",
        "        myarray.rotate(1) #rotate right\n",
        "        a = list(myarray)\n",
        "        temp.append(a)\n",
        "    print(temp[-1])\n",
        "shift(['andi', 'budi', 'charlie', 'doni'],7)\n",
        "\n",
        "# Expected Output: ['budi', 'charlie', 'doni', 'andi']"
      ],
      "id": "jnr5znJUVqWr",
      "execution_count": null,
      "outputs": [
        {
          "output_type": "stream",
          "name": "stdout",
          "text": [
            "['budi', 'charlie', 'doni', 'andi']\n"
          ]
        }
      ]
    },
    {
      "cell_type": "code",
      "metadata": {
        "id": "LJaWSk-sW9ak",
        "outputId": "db777334-4add-4870-bf4a-11b6cddadfba",
        "colab": {
          "base_uri": "https://localhost:8080/"
        }
      },
      "source": [
        "from collections import deque\n",
        "\n",
        "def shift(array,steps):\n",
        "    myarray = deque(array)\n",
        "    temp = []\n",
        "    for i in range (steps):\n",
        "        myarray.rotate(1) #rotate right\n",
        "        a = list(myarray)\n",
        "        temp.append(a)\n",
        "    print(temp[-1])\n",
        "shift(['di', 'bim', 'bing', 123, 'data', 'science'],10)\n",
        "\n",
        "# Expected Output: ['bing', 123, 'data', 'science', 'di', 'bim']"
      ],
      "id": "LJaWSk-sW9ak",
      "execution_count": null,
      "outputs": [
        {
          "output_type": "stream",
          "name": "stdout",
          "text": [
            "['bing', 123, 'data', 'science', 'di', 'bim']\n"
          ]
        }
      ]
    },
    {
      "cell_type": "markdown",
      "metadata": {
        "id": "MRxU2bsKVqWs"
      },
      "source": [
        "### Question 2. \n",
        "### \"Segitiga Paskal\""
      ],
      "id": "MRxU2bsKVqWs"
    },
    {
      "cell_type": "markdown",
      "metadata": {
        "id": "hBUS1vtjVqWs"
      },
      "source": [
        "We want to generate the n-th row of \"Pascal's Triangle\". Your function name should be ```pascal```. For those who does not know pascal triangle, watch this video: https://www.youtube.com/watch?v=1D3KsvfB8b0 and read https://www.mathsisfun.com/pascals-triangle.html \n",
        "\n",
        "##### Example 1:\n",
        "Input = 4,\n",
        "\n",
        "Answer = [1,4,6,4,1]\n",
        "\n",
        "##### Example 2:\n",
        "input = 3,\n",
        "\n",
        "Answer = [1,3,3,1]\n",
        "\n"
      ],
      "id": "hBUS1vtjVqWs"
    },
    {
      "cell_type": "code",
      "metadata": {
        "id": "2KDt9NdfVqWt"
      },
      "source": [
        "### Write your solution here ###\n",
        "def pascal(input):\n",
        "    return"
      ],
      "id": "2KDt9NdfVqWt",
      "execution_count": null,
      "outputs": []
    },
    {
      "cell_type": "code",
      "source": [
        "def pascal(n_rows):\n",
        "    results = []\n",
        "    for i in range(n_rows):\n",
        "        row = [1]\n",
        "        if results:\n",
        "            last_row = results[-1]\n",
        "            row.extend([sum(pair) for pair in zip(last_row, last_row[1:])])\n",
        "            row.append(1)\n",
        "        results.append(row)\n",
        "    return results\n",
        "\n",
        "\n",
        "for i in pascal(5):\n",
        "    print(i)"
      ],
      "metadata": {
        "colab": {
          "base_uri": "https://localhost:8080/"
        },
        "id": "mZldDdIX9spI",
        "outputId": "8529ea0a-b28a-4b17-8488-e373a4877943"
      },
      "id": "mZldDdIX9spI",
      "execution_count": 8,
      "outputs": [
        {
          "output_type": "stream",
          "name": "stdout",
          "text": [
            "[1]\n",
            "[1, 1]\n",
            "[1, 2, 1]\n",
            "[1, 3, 3, 1]\n",
            "[1, 4, 6, 4, 1]\n"
          ]
        }
      ]
    },
    {
      "cell_type": "code",
      "metadata": {
        "id": "-Jkxdrn_VqWu"
      },
      "source": [
        "### Solution\n",
        "\n",
        "def pascal(input):"
      ],
      "id": "-Jkxdrn_VqWu",
      "execution_count": null,
      "outputs": []
    },
    {
      "cell_type": "code",
      "metadata": {
        "id": "oRbvyp8oYsrU"
      },
      "source": [
        "pascal(3)"
      ],
      "id": "oRbvyp8oYsrU",
      "execution_count": null,
      "outputs": []
    },
    {
      "cell_type": "code",
      "source": [
        "from math import factorial\n",
        " \n",
        "# input n\n",
        "n = 4\n",
        "for i in range(n):\n",
        "    for j in range(n-i+1):\n",
        " \n",
        "        # for left spacing\n",
        "        print(end=\" \")\n",
        " \n",
        "    for j in range(i+1):\n",
        " \n",
        "        # nCr = n!/((n-r)!*r!)\n",
        "        print(factorial(i)//(factorial(j)*factorial(i-j)), end=\" \")\n",
        " \n",
        "    # for new line\n",
        "    print()"
      ],
      "metadata": {
        "colab": {
          "base_uri": "https://localhost:8080/"
        },
        "id": "5bcmR2bd8jMO",
        "outputId": "7e005b8d-fbd9-4ef6-8891-b4d07dc8263d"
      },
      "id": "5bcmR2bd8jMO",
      "execution_count": 4,
      "outputs": [
        {
          "output_type": "stream",
          "name": "stdout",
          "text": [
            "     1 \n",
            "    1 1 \n",
            "   1 2 1 \n",
            "  1 3 3 1 \n"
          ]
        }
      ]
    },
    {
      "cell_type": "markdown",
      "metadata": {
        "id": "UJFlJIG_VqWv"
      },
      "source": [
        "### Question 3"
      ],
      "id": "UJFlJIG_VqWv"
    },
    {
      "cell_type": "markdown",
      "metadata": {
        "id": "q_vw2BtGVqWv"
      },
      "source": [
        "### \"Maximum Distance Between 3 Points\""
      ],
      "id": "q_vw2BtGVqWv"
    },
    {
      "cell_type": "markdown",
      "metadata": {
        "id": "k6qNbSInVqWw"
      },
      "source": [
        "Given three coordinates, determine which two points are the furthest apart, and output the length of their distance. Your function should be called ```max_distance```. First coordinate is called 'A', second coordinate is called 'B', third coordinate is called 'C'. \n",
        "\n",
        "\n",
        "##### Example:\n",
        "A = [1,2],\n",
        "B = [10,-10],\n",
        "C = [-3, 5]\n",
        "\n",
        "- The distance between AB = 15\n",
        "- The distance between BC = 19.8\n",
        "- The distance between AC = 5.0\n",
        "\n",
        "Answer = \"The point A, B are furthest apart with distance 19.8\"\n"
      ],
      "id": "k6qNbSInVqWw"
    },
    {
      "cell_type": "code",
      "source": [
        "import numpy as np"
      ],
      "metadata": {
        "id": "ZbQM1AHF6-cL"
      },
      "id": "ZbQM1AHF6-cL",
      "execution_count": 5,
      "outputs": []
    },
    {
      "cell_type": "code",
      "metadata": {
        "id": "la5u9FV4VqWw"
      },
      "source": [
        "### Write your solution here ###\n",
        "def max_distance(A,B,C):\n"
      ],
      "id": "la5u9FV4VqWw",
      "execution_count": null,
      "outputs": []
    },
    {
      "cell_type": "code",
      "source": [],
      "metadata": {
        "id": "vMdDiU-769p6"
      },
      "id": "vMdDiU-769p6",
      "execution_count": null,
      "outputs": []
    },
    {
      "cell_type": "code",
      "metadata": {
        "id": "AOlaM0grVqWy"
      },
      "source": [],
      "id": "AOlaM0grVqWy",
      "execution_count": null,
      "outputs": []
    },
    {
      "cell_type": "code",
      "metadata": {
        "id": "jowcVYLLVqWy"
      },
      "source": [],
      "id": "jowcVYLLVqWy",
      "execution_count": null,
      "outputs": []
    },
    {
      "cell_type": "code",
      "metadata": {
        "id": "LDshQYqhVqWy"
      },
      "source": [],
      "id": "LDshQYqhVqWy",
      "execution_count": null,
      "outputs": []
    },
    {
      "cell_type": "code",
      "metadata": {
        "id": "bDrZLJjNVqWy"
      },
      "source": [],
      "id": "bDrZLJjNVqWy",
      "execution_count": null,
      "outputs": []
    },
    {
      "cell_type": "code",
      "metadata": {
        "id": "O329KSX6VqWy"
      },
      "source": [],
      "id": "O329KSX6VqWy",
      "execution_count": null,
      "outputs": []
    }
  ]
}