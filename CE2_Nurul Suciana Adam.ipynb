{
 "cells": [
  {
   "cell_type": "markdown",
   "metadata": {
    "id": "cMrT-5F164qj"
   },
   "source": [
    "## Welcome to the Week 2 Coding Challenge!"
   ]
  },
  {
   "cell_type": "markdown",
   "metadata": {
    "id": "79NwqjIq64qr"
   },
   "source": [
    "Problem 1: Who is in the third place?"
   ]
  },
  {
   "cell_type": "markdown",
   "metadata": {
    "id": "9db_O8Co64qs"
   },
   "source": [
    "Create a function whose name is ```third_place``` that does the following: \n",
    "\n",
    "Given a list of test score and a list of participants name. The desired output would be the name of the participant who gets the 3rd best score. The rule of determining the order of the best score is as follows:\n",
    "- Higher score is better\n",
    "- In case of multiple participants having the same test score, they can occupy the same ranking value. For example, if 2 participants scored 100, then both of them occupy the first place. \n",
    "\n",
    "The first input of the function is the name list, and the second input to the function is the score list.\n",
    "\n",
    "##### Example 1:\n",
    "\n",
    "Input:\n",
    "\n",
    "names = [Andi, Budi, Charlie, Dilan, Echa]\n",
    "\n",
    "score = [80, 90, 95, 100, 85]\n",
    "\n",
    "This means, Andi gets 80, Budi gets 90, Charlie gets 95, Dilan gets 100, and Echa gets 85. The first best score is 100, and Dilan gets it. The second best score is 95, and Charlie gets it. The third best score is 90, and Budi gets it. So, our output should be Budi.\n",
    "\n",
    "Output: 'The third winner: Budi'.\n",
    "\n",
    "When we run ```third_place(names, score)```, the output will be 'The third winner: Budi'.\n",
    "\n",
    "##### Example 2:\n",
    "\n",
    "Input:\n",
    "\n",
    "names = [Andi, Budi, Charlie, Dilan, Echa]\n",
    "\n",
    "score = [80, 80, 80, 100, 90]\n",
    "\n",
    "This means, Andi, Budi, and Charlie gets 80, Dilan gets 100, and Echa gets 90. The third best score is 80, and our output should list ALL of the participants who get 80. \n",
    "\n",
    "Output: 'The third winner: Andi, Budi, Charlie'.\n",
    "\n",
    "When we run ```third_place(names, score)```, the output will be 'The third winner: Andi, Budi, Charlie'.\n",
    "\n",
    "\n",
    "##### Example 3:\n",
    "\n",
    "Input:\n",
    "\n",
    "names = [Andi, Budi, Charlie, Dilan, Echa, Fanya]\n",
    "\n",
    "score = [80, 90, 90, 100, 100, 80]\n",
    "\n",
    "The first best score (first winner) is 100 - Dilan and Echa shared this position. The second best score (second winner) is 90 - Budi and Charlie shared this position. The third best score (third winner) is 80, and it is shared by Andi and Fanya. So, our output should be Andi and Fanya.\n",
    "\n",
    "Output: 'The third winner: Andi, Fanya'."
   ]
  },
  {
   "cell_type": "code",
   "execution_count": null,
   "metadata": {
    "id": "QOoSINMz64qv"
   },
   "outputs": [],
   "source": [
    "def third_place(names, score):\n",
    "    ### Your code starts here ###"
   ]
  },
  {
   "cell_type": "code",
   "execution_count": 1,
   "metadata": {},
   "outputs": [
    {
     "ename": "IndentationError",
     "evalue": "expected an indented block (753687333.py, line 5)",
     "output_type": "error",
     "traceback": [
      "\u001b[0;36m  Input \u001b[0;32mIn [1]\u001b[0;36m\u001b[0m\n\u001b[0;31m    else:\u001b[0m\n\u001b[0m    ^\u001b[0m\n\u001b[0;31mIndentationError\u001b[0m\u001b[0;31m:\u001b[0m expected an indented block\n"
     ]
    }
   ],
   "source": [
    "def third_place(string, n):\n",
    "    string1 ='; string2 =';\n",
    "    for i in range(n):\n",
    "        if (i % 2 == 0):\n",
    "        else:\n",
    "            string2 += string(i);\n",
    "            \n",
    "    string1 = ''join.(sorted(string))\n",
    "    string2 = ''join.(sorted(string))\n",
    "    \n",
    "    if (string1 < string2) :\n",
    "        print('A', end = '');\n",
    "            elif(string2 < string1):\n",
    "                print('B', end ='');\n",
    "            else:\n",
    "                print('Tie', end ='');\n",
    "                \n",
    "    if _name_ == '_main_':\n",
    "        string = 'geeksforgeeks';\n",
    "        n = len(string);\n",
    "        \n",
    "        find_winner(string, n);\n",
    "                "
   ]
  },
  {
   "cell_type": "code",
   "execution_count": 44,
   "metadata": {},
   "outputs": [],
   "source": [
    "def third_place (name, score): #Tugas ini saya mencoba untuk imitasi dari Tugas Wila dan dipandu oleh Jasmine. Saya mencoba buat sendiri codenya tetapi selalu kena stuck. \n",
    "    student_name =[] #Saya masih sangat lemah nih di logic programming, logical thinking aja masih meraba2.\n",
    "    third_place = [] #Pseudocode dan flowchart\n",
    "    x = sorted(list(set(score)))[-3]\n",
    "    for i in range(len(name)):\n",
    "        student_name.append([name[i], score[i]])\n",
    "    for i in range(len(student_name)):\n",
    "        if student_name[i][1]==x:\n",
    "            third_place.append(student_name[i][0])\n",
    "    print('The third winner: {}'.format(third_place))"
   ]
  },
  {
   "cell_type": "code",
   "execution_count": 45,
   "metadata": {},
   "outputs": [
    {
     "name": "stdout",
     "output_type": "stream",
     "text": [
      "The third winner: ['Echa']\n"
     ]
    }
   ],
   "source": [
    "third_place(['Andi', 'Budi','Charlie', 'Dilan', 'Echa'], [80, 80, 80, 100, 20])"
   ]
  },
  {
   "cell_type": "markdown",
   "metadata": {
    "id": "1ydxvEez64q3"
   },
   "source": [
    "Problem 2: Find the Square Root!"
   ]
  },
  {
   "cell_type": "markdown",
   "metadata": {
    "id": "nvcBPlgV64q5"
   },
   "source": [
    "Create a function whose name is ```square_root``` that does the following:\n",
    "\n",
    "Given a second order polynomial, find the roots (roots should be in real number). The input will be 3 numbers, each of them representing 'a', 'b', and 'c', in ax^2 + bx + c = 0.\n",
    "\n",
    "Your task is to find the root of ax^2 + bx + c = 0. \n",
    "\n",
    "However, notice that sometimes an equation cannot be solved, or they have only one solution instead of two. Your function should also take this into consideration. \n",
    "\n",
    "The input of your function is 3 numbers, first number is the 'a' constant, second number is the 'b' constant, and third number is the 'c' constant.\n",
    "\n",
    "##### Example 1:\n",
    "\n",
    "Input: a = 1, b = -5, c = 6.\n",
    "\n",
    "This means, the equation is 1x^2 - 5x + 6 = 0. \n",
    "This equation has two solutions, the first solution is x = 3, and the second solution is x = 2. So, your output should be:\n",
    "\n",
    "Output: 'X1 = 3, X2 = 2'.\n",
    "\n",
    "When we run the code ```square_root(1, -5, 6)``` the output will be: 'X1 = 3, X2 = 2'\n",
    "\n",
    "##### Example 2:\n",
    "\n",
    "Input: a = 2, b = 4, c = 2.\n",
    "\n",
    "This means, the equation is 2x^2 + 4x + 2 = 0. \n",
    "This equation has only one solution, which is x = -1. \n",
    "\n",
    "Output; 'X = -1'.\n",
    "\n",
    "##### Example 3:\n",
    "\n",
    "Input: a = 1, b = 1, c = 9.\n",
    "\n",
    "This means, the equation is x^2 + x + 9 = 0.\n",
    "This equation has no real solution. (If you have learned about imaginary or complex numbers, the solution of this equation is those kind of numbers. But here, we're just going to deal with real numbers).\n",
    "\n",
    "Output: 'No solution'."
   ]
  },
  {
   "cell_type": "code",
   "execution_count": 1,
   "metadata": {
    "id": "i3_ebfGq64q6"
   },
   "outputs": [],
   "source": [
    "import numpy as np"
   ]
  },
  {
   "cell_type": "code",
   "execution_count": 2,
   "metadata": {},
   "outputs": [],
   "source": [
    "def square_root(a, b, c):\n",
    "    d1 = (-b+(np.sqrt(b**2-4*a*c))/2*a)\n",
    "    d2 = (-b-(np.sqrt(b**2-4*a*c))/2*a)\n",
    "    return d1, d2"
   ]
  },
  {
   "cell_type": "code",
   "execution_count": 10,
   "metadata": {},
   "outputs": [
    {
     "data": {
      "text/plain": [
       "(-2.0, -2.0)"
      ]
     },
     "execution_count": 10,
     "metadata": {},
     "output_type": "execute_result"
    }
   ],
   "source": [
    "square_root(1,2,1)"
   ]
  },
  {
   "cell_type": "markdown",
   "metadata": {
    "id": "NntHmMB164q-"
   },
   "source": [
    "Problem 3: Find Distance Between Two Coordinates - Easy"
   ]
  },
  {
   "cell_type": "markdown",
   "metadata": {
    "id": "12EaDJlE64q_"
   },
   "source": [
    "Create a function called ```distance``` that does the following:\n",
    "\n",
    "Given two coordinates in a list. Your task is to calculate the distance between these two coordinates. The input of your function will be two list. Each list contains 2 members, representing the x and y position.\n",
    "\n",
    "##### Example 1:\n",
    "\n",
    "Input: \n",
    "\n",
    "point_1 = [5, 5]\n",
    "\n",
    "point_2 = [1, 2]\n",
    "\n",
    "This means, the first point's coordinate is (5,5), the second point's coordinate is (1,2). To calculate the distance between these two points, we use the usual euclidean distance formula here: https://wikimedia.org/api/rest_v1/media/math/render/svg/2e0c9ce1b3455cb9e92c6bad6684dbda02f69c82. \n",
    "\n",
    "The distance is: \n",
    "\n",
    "Square root of ((5-1)^2 + (5-2)^2) = Square root of (16 + 9) = Square root of (25) = 5.\n",
    "\n",
    "Output: 'The distance is 5.'\n",
    "\n",
    "So, when we run the code ```distance(point_1, point_2)``` the output will be 'The distance is 5'.\n",
    "\n",
    "##### Example 2:\n",
    "\n",
    "Input:\n",
    "\n",
    "point_1 = [0,-1]\n",
    "\n",
    "point_2 = [-3, 2]\n",
    "\n",
    "The first coordinate is (0,-1), the second coordinate is (-3,2). The distance between them is:\n",
    "\n",
    "Square root of ((0- -3)^2 + (-1-2)^2) = Square root of (9 + 9) = Square root of (18) = 4.242640687\n",
    "\n",
    "Output: 'The distance is 4.242640687'.\n",
    "\n",
    "So, when we run the code ```distance(point_1, point_2)``` the output will be 'The distance is 4.242640487'.\n",
    "\n",
    "##### FAQ:\n",
    "\n",
    "- Question: \"Desimalnya dibuletin ga?\"\n",
    "- Answer: \"Ga usah peduliin format output desimalnya. Mau keluar berapa angka di belakang koma gpp kok. Yang penting value nya bener.\" "
   ]
  },
  {
   "cell_type": "code",
   "execution_count": 14,
   "metadata": {},
   "outputs": [],
   "source": [
    "import numpy as np"
   ]
  },
  {
   "cell_type": "code",
   "execution_count": 19,
   "metadata": {},
   "outputs": [],
   "source": [
    "def distance(point_1,point_2):\n",
    "    x = np.sqrt(((point_1[0]-point_2[0])**2)+((point_1[1]-point_2[1])**2))\n",
    "    return x"
   ]
  },
  {
   "cell_type": "code",
   "execution_count": 20,
   "metadata": {},
   "outputs": [
    {
     "data": {
      "text/plain": [
       "4.242640687119285"
      ]
     },
     "execution_count": 20,
     "metadata": {},
     "output_type": "execute_result"
    }
   ],
   "source": [
    "distance([0,-1],[-3,2])"
   ]
  }
 ],
 "metadata": {
  "colab": {
   "name": " Coding Exercise 2 - Question.ipynb",
   "provenance": []
  },
  "kernelspec": {
   "display_name": "Python 3 (ipykernel)",
   "language": "python",
   "name": "python3"
  },
  "language_info": {
   "codemirror_mode": {
    "name": "ipython",
    "version": 3
   },
   "file_extension": ".py",
   "mimetype": "text/x-python",
   "name": "python",
   "nbconvert_exporter": "python",
   "pygments_lexer": "ipython3",
   "version": "3.9.12"
  }
 },
 "nbformat": 4,
 "nbformat_minor": 1
}
